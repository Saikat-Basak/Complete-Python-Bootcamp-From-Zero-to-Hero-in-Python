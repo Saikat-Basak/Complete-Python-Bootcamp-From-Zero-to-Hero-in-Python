{
 "cells": [
  {
   "cell_type": "markdown",
   "id": "b3d42663",
   "metadata": {},
   "source": [
    "# String"
   ]
  },
  {
   "cell_type": "code",
   "execution_count": 15,
   "id": "55c30730",
   "metadata": {},
   "outputs": [
    {
     "name": "stdout",
     "output_type": "stream",
     "text": [
      "s[2:] = llo World\n",
      "\n",
      "s[:3] = Hel\n",
      "\n",
      "s[-1] = d\n",
      "\n",
      "s[-2] = l\n",
      "\n",
      "s[-3:]= rld\n",
      "\n",
      "s[:-3]= Hello Wo\n",
      "\n",
      "s[:]  = Hello World\n",
      "\n",
      "s[::1]= Hello World\n",
      "\n",
      "s[::2]= HloWrd\n",
      "\n",
      "s[::-1]=dlroW olleH\n",
      "\n"
     ]
    }
   ],
   "source": [
    "s='Hello World'\n",
    "print(f's[2:] = {s[2:]}\\n')\n",
    "\n",
    "print(f's[:3] = {s[:3]}\\n')\n",
    "\n",
    "print(f's[-1] = {s[-1]}\\n')\n",
    "\n",
    "print(f's[-2] = {s[-2]}\\n')\n",
    "\n",
    "print(f's[-3:]= {s[-3:]}\\n')\n",
    "\n",
    "print(f's[:-3]= {s[:-3]}\\n')\n",
    "\n",
    "print(f's[:]  = {s[:]}\\n') # everything\n",
    "\n",
    "print(f's[::1]= {s[::1]}\\n') # Grab everything, but go in steps size of 1\n",
    "\n",
    "print(f's[::2]= {s[::2]}\\n') # Grab everything, but go in steps size of 2\n",
    "\n",
    "print(f's[::-1]={s[::-1]}\\n') # We can use this to print a string backwards"
   ]
  },
  {
   "cell_type": "markdown",
   "id": "eb381098",
   "metadata": {},
   "source": [
    "### String Properties\n",
    "It's important to note that strings have an important property known as **immutability**. This means that once a string is created, the elements within it can not be changed or replaced. For example:"
   ]
  },
  {
   "cell_type": "code",
   "execution_count": 17,
   "id": "0cdf954e",
   "metadata": {},
   "outputs": [
    {
     "ename": "TypeError",
     "evalue": "'str' object does not support item assignment",
     "output_type": "error",
     "traceback": [
      "\u001b[1;31m---------------------------------------------------------------------------\u001b[0m",
      "\u001b[1;31mTypeError\u001b[0m                                 Traceback (most recent call last)",
      "\u001b[1;32mC:\\Users\\SB&AM~1\\AppData\\Local\\Temp/ipykernel_15432/1962844421.py\u001b[0m in \u001b[0;36m<module>\u001b[1;34m\u001b[0m\n\u001b[1;32m----> 1\u001b[1;33m \u001b[0ms\u001b[0m\u001b[1;33m[\u001b[0m\u001b[1;36m0\u001b[0m\u001b[1;33m]\u001b[0m \u001b[1;33m=\u001b[0m \u001b[1;34m'x'\u001b[0m\u001b[1;33m\u001b[0m\u001b[1;33m\u001b[0m\u001b[0m\n\u001b[0m",
      "\u001b[1;31mTypeError\u001b[0m: 'str' object does not support item assignment"
     ]
    }
   ],
   "source": [
    "s[0] = 'x'"
   ]
  },
  {
   "cell_type": "code",
   "execution_count": 18,
   "id": "f6df4dec",
   "metadata": {},
   "outputs": [
    {
     "data": {
      "text/plain": [
       "'Hello World concatenate me!'"
      ]
     },
     "execution_count": 18,
     "metadata": {},
     "output_type": "execute_result"
    }
   ],
   "source": [
    "# Concatenate strings!\n",
    "s + ' concatenate me!'"
   ]
  },
  {
   "cell_type": "code",
   "execution_count": 16,
   "id": "be509698",
   "metadata": {},
   "outputs": [
    {
     "name": "stdout",
     "output_type": "stream",
     "text": [
      "Hello World concatenate me!\n"
     ]
    }
   ],
   "source": [
    "s='Hello World'\n",
    "\n",
    "# We can reassign s completely though!\n",
    "s = s + ' concatenate me!'\n",
    "\n",
    "print(s)"
   ]
  },
  {
   "cell_type": "code",
   "execution_count": 23,
   "id": "eac1eace",
   "metadata": {},
   "outputs": [
    {
     "data": {
      "text/plain": [
       "'zzzzzzzzzz'"
      ]
     },
     "execution_count": 23,
     "metadata": {},
     "output_type": "execute_result"
    }
   ],
   "source": [
    "# We can use the multiplication symbol to create repetition!\n",
    "letter = 'z'\n",
    "letter*10"
   ]
  },
  {
   "cell_type": "code",
   "execution_count": 17,
   "id": "7b31253a",
   "metadata": {},
   "outputs": [
    {
     "data": {
      "text/plain": [
       "'eeeeeabcdabcdooo'"
      ]
     },
     "execution_count": 17,
     "metadata": {},
     "output_type": "execute_result"
    }
   ],
   "source": [
    "s[1]*5 + 'abcd'*2 + s[4]*3"
   ]
  },
  {
   "cell_type": "markdown",
   "id": "98885f70",
   "metadata": {},
   "source": [
    "**The values that are genarated from .upper(), .lower(), .capitalize(), .split() can be assigned in the variables**"
   ]
  },
  {
   "cell_type": "code",
   "execution_count": 18,
   "id": "fd37df78",
   "metadata": {},
   "outputs": [
    {
     "name": "stdout",
     "output_type": "stream",
     "text": [
      "s.upper() = HELLO WORLD CONCATENATE ME!\n",
      "\n",
      "s.lower() = hello world concatenate me!\n",
      "\n",
      "s.capitalize() = Hello world concatenate me!\n",
      "\n",
      "s.split() = ['hello', 'world', 'concatenate', 'me!']\n",
      "\n",
      "s.split('w') = ['hello ', 'orld concatenate me!']\n",
      "\n",
      "s.split('e') = ['h', 'llo world concat', 'nat', ' m', '!']\n",
      "\n"
     ]
    }
   ],
   "source": [
    "s='hello world concatenate me!'\n",
    "\n",
    "print(f's.upper() = {s.upper()}\\n') # Upper Case a string\n",
    "print(f's.lower() = {s.lower()}\\n') # lower Case a string\n",
    "print(f's.capitalize() = {s.capitalize()}\\n') # capitalize the first letter only\n",
    "\n",
    "print(f's.split() = {s.split()}\\n') # Split a string by blank space (this is the default)\n",
    "print(f\"s.split('w') = {s.split('w')}\\n\") # Split by a specific element (doesn't include the element that was split on)\n",
    "print(f\"s.split('e') = {s.split('e')}\\n\")"
   ]
  },
  {
   "cell_type": "markdown",
   "id": "d568f933",
   "metadata": {},
   "source": [
    "----------------"
   ]
  },
  {
   "cell_type": "markdown",
   "id": "82604383",
   "metadata": {},
   "source": [
    "# Print"
   ]
  },
  {
   "cell_type": "code",
   "execution_count": 39,
   "id": "2e69d54d",
   "metadata": {
    "scrolled": true
   },
   "outputs": [
    {
     "name": "stdout",
     "output_type": "stream",
     "text": [
      "He said his name is Fred.\n",
      "He said his name is 'Fred'.\n"
     ]
    }
   ],
   "source": [
    "name = 'Fred'\n",
    "\n",
    "print(f\"He said his name is {name}.\")\n",
    "print(f\"He said his name is {name!r}.\") # Pass `!r` to get the string representation"
   ]
  },
  {
   "cell_type": "code",
   "execution_count": 40,
   "id": "eedac121",
   "metadata": {},
   "outputs": [
    {
     "name": "stdout",
     "output_type": "stream",
     "text": [
      "My 10 character, four decimal number is:   23.4500\n",
      "My 10 character, four decimal number is:   23.4500\n"
     ]
    }
   ],
   "source": [
    "num = 23.45\n",
    "print(\"My 10 character, four decimal number is:{0:10.4f}\".format(num)) # Using 'Format'\n",
    "print(f\"My 10 character, four decimal number is:{num:10.4f}\") # Using 'Formatted String Literals (f-strings)'"
   ]
  },
  {
   "cell_type": "code",
   "execution_count": 42,
   "id": "b5574386",
   "metadata": {},
   "outputs": [
    {
     "name": "stdout",
     "output_type": "stream",
     "text": [
      "Fruit    | Quantity \n",
      "Apples   |       3.0\n",
      "Oranges  |        10\n",
      "\n",
      "\n",
      "Fruit    | Quantity \n",
      "Apples   |       3.0\n",
      "Oranges  |        10\n"
     ]
    }
   ],
   "source": [
    "# Using 'Format'\n",
    "print('{0:8} | {1:9}'.format('Fruit', 'Quantity'))\n",
    "print('{0:8} | {1:9}'.format('Apples', 3.))\n",
    "print('{0:8} | {1:9}'.format('Oranges', 10))\n",
    "\n",
    "print('\\n')\n",
    "\n",
    "#Using \"Formatted String Literals (f-strings)\"\n",
    "print(f\"{'Fruit':8} | {'Quantity':9}\")\n",
    "print(f\"{'Apples':8} | {3.:9}\")\n",
    "print(f\"{'Oranges':8} | {10:9}\")"
   ]
  },
  {
   "cell_type": "code",
   "execution_count": 43,
   "id": "10191475",
   "metadata": {},
   "outputs": [
    {
     "name": "stdout",
     "output_type": "stream",
     "text": [
      "Left     |  Center  |    Right\n",
      "11       |    22    |       33\n",
      "\n",
      "\n",
      "Left     |  Center  |    Right\n",
      "11       |    22    |       33\n"
     ]
    }
   ],
   "source": [
    "# Using 'Format'\n",
    "print('{0:<8} | {1:^8} | {2:>8}'.format('Left','Center','Right'))\n",
    "print('{0:<8} | {1:^8} | {2:>8}'.format(11,22,33))\n",
    "\n",
    "print('\\n')\n",
    "\n",
    "#Using \"Formatted String Literals (f-strings)\"\n",
    "print(f\"{'Left':<8} | {'Center':^8} | {'Right':>8}\")\n",
    "print(f\"{11:<8} | {22:^8} | {33:>8}\")"
   ]
  },
  {
   "cell_type": "markdown",
   "id": "2b2b67b4",
   "metadata": {},
   "source": [
    "-----------------"
   ]
  },
  {
   "cell_type": "markdown",
   "id": "e185d2a6",
   "metadata": {},
   "source": [
    "# List\n",
    "------------------------------"
   ]
  },
  {
   "cell_type": "code",
   "execution_count": 50,
   "id": "d0013b94",
   "metadata": {},
   "outputs": [
    {
     "name": "stdout",
     "output_type": "stream",
     "text": [
      "my_list[0] = 'one'\n",
      "\n",
      "my_list[1:] = ['two', 'three', 4, 5]\n",
      "\n",
      "my_list[:3] = ['one', 'two', 'three']\n",
      "\n",
      "my_list[::-1] = [5, 4, 'three', 'two', 'one']\n",
      "\n",
      "my_list[::2] = ['one', 'three', 5]\n",
      "\n"
     ]
    }
   ],
   "source": [
    "# All \"List\" Operations are similar \"String\" operations\n",
    "\n",
    "my_list = ['one','two','three',4,5]\n",
    "\n",
    "print(f\"my_list[0] = {my_list[0]!r}\\n\") # Grab element at index 0\n",
    "\n",
    "print(f\"my_list[1:] = {my_list[1:]}\\n\") # Grab index 1 and everything past it\n",
    "\n",
    "print(f\"my_list[:3] = {my_list[:3]}\\n\") # Grab everything UP TO index 3\n",
    "\n",
    "print(f\"my_list[::-1] = {my_list[::-1]}\\n\") #  print backwards\n",
    "\n",
    "print(f\"my_list[::2] = {my_list[::2]}\\n\") #  Grab everything, but go in steps size of 2"
   ]
  },
  {
   "cell_type": "code",
   "execution_count": 58,
   "id": "beddff0a",
   "metadata": {},
   "outputs": [
    {
     "ename": "TypeError",
     "evalue": "can only concatenate str (not \"int\") to str",
     "output_type": "error",
     "traceback": [
      "\u001b[1;31m---------------------------------------------------------------------------\u001b[0m",
      "\u001b[1;31mTypeError\u001b[0m                                 Traceback (most recent call last)",
      "\u001b[1;32mC:\\Users\\SB&AM~1\\AppData\\Local\\Temp/ipykernel_15432/3156823647.py\u001b[0m in \u001b[0;36m<module>\u001b[1;34m\u001b[0m\n\u001b[1;32m----> 1\u001b[1;33m \u001b[0mmy_list\u001b[0m\u001b[1;33m[\u001b[0m\u001b[1;36m0\u001b[0m\u001b[1;33m]\u001b[0m\u001b[1;33m*\u001b[0m\u001b[1;36m2\u001b[0m \u001b[1;33m+\u001b[0m \u001b[1;34m'abcd'\u001b[0m\u001b[1;33m*\u001b[0m\u001b[1;36m2\u001b[0m \u001b[1;33m+\u001b[0m \u001b[0mmy_list\u001b[0m\u001b[1;33m[\u001b[0m\u001b[1;36m3\u001b[0m\u001b[1;33m]\u001b[0m\u001b[1;33m\u001b[0m\u001b[1;33m\u001b[0m\u001b[0m\n\u001b[0m",
      "\u001b[1;31mTypeError\u001b[0m: can only concatenate str (not \"int\") to str"
     ]
    }
   ],
   "source": [
    "my_list[0]*2 + 'abcd'*2 + my_list[3]"
   ]
  },
  {
   "cell_type": "code",
   "execution_count": 57,
   "id": "3e744038",
   "metadata": {},
   "outputs": [
    {
     "data": {
      "text/plain": [
       "'oneoneabcdabcd'"
      ]
     },
     "execution_count": 57,
     "metadata": {},
     "output_type": "execute_result"
    }
   ],
   "source": [
    "my_list[0]*2 + 'abcd'*2"
   ]
  },
  {
   "cell_type": "code",
   "execution_count": 61,
   "id": "e5d82c6d",
   "metadata": {},
   "outputs": [
    {
     "ename": "TypeError",
     "evalue": "can only concatenate str (not \"list\") to str",
     "output_type": "error",
     "traceback": [
      "\u001b[1;31m---------------------------------------------------------------------------\u001b[0m",
      "\u001b[1;31mTypeError\u001b[0m                                 Traceback (most recent call last)",
      "\u001b[1;32mC:\\Users\\SB&AM~1\\AppData\\Local\\Temp/ipykernel_15432/2584523447.py\u001b[0m in \u001b[0;36m<module>\u001b[1;34m\u001b[0m\n\u001b[1;32m----> 1\u001b[1;33m \u001b[0mmy_list\u001b[0m\u001b[1;33m[\u001b[0m\u001b[1;36m0\u001b[0m\u001b[1;33m]\u001b[0m \u001b[1;33m+\u001b[0m \u001b[1;33m[\u001b[0m\u001b[1;34m'abcd'\u001b[0m\u001b[1;33m]\u001b[0m\u001b[1;33m\u001b[0m\u001b[1;33m\u001b[0m\u001b[0m\n\u001b[0m",
      "\u001b[1;31mTypeError\u001b[0m: can only concatenate str (not \"list\") to str"
     ]
    }
   ],
   "source": [
    "my_list[0] + ['abcd']"
   ]
  },
  {
   "cell_type": "code",
   "execution_count": 64,
   "id": "b6ecac8e",
   "metadata": {},
   "outputs": [
    {
     "data": {
      "text/plain": [
       "['one', 'two', 'three', 4, 5, 'abcd', 34, 'fhthtjyt']"
      ]
     },
     "execution_count": 64,
     "metadata": {},
     "output_type": "execute_result"
    }
   ],
   "source": [
    "my_list + ['abcd',34,'fhthtjyt']"
   ]
  },
  {
   "cell_type": "code",
   "execution_count": 65,
   "id": "0397e556",
   "metadata": {},
   "outputs": [
    {
     "data": {
      "text/plain": [
       "['one', 'two', 'three', 4, 5, 'one', 'two', 'three', 4, 5]"
      ]
     },
     "execution_count": 65,
     "metadata": {},
     "output_type": "execute_result"
    }
   ],
   "source": [
    "my_list*2"
   ]
  },
  {
   "cell_type": "markdown",
   "id": "990b8208",
   "metadata": {},
   "source": [
    "**'append()', 'pop()' cannot be used in \"String\" operation**"
   ]
  },
  {
   "cell_type": "code",
   "execution_count": 74,
   "id": "8498ef3d",
   "metadata": {},
   "outputs": [
    {
     "data": {
      "text/plain": [
       "['one', 'two', 'three', 4, 5, 'append me!']"
      ]
     },
     "execution_count": 74,
     "metadata": {},
     "output_type": "execute_result"
    }
   ],
   "source": [
    "my_list = ['one','two','three',4,5]\n",
    "my_list.append('append me!')\n",
    "                               # my_list = my_list.append('append me!') ***Not acceptable\n",
    "my_list"
   ]
  },
  {
   "cell_type": "code",
   "execution_count": 80,
   "id": "16cb83c0",
   "metadata": {},
   "outputs": [
    {
     "data": {
      "text/plain": [
       "'one'"
      ]
     },
     "execution_count": 80,
     "metadata": {},
     "output_type": "execute_result"
    }
   ],
   "source": [
    "my_list = ['one','two','three',4,5]\n",
    "my_list.pop(0) # Pop off the 0 indexed item"
   ]
  },
  {
   "cell_type": "code",
   "execution_count": 86,
   "id": "66e69be0",
   "metadata": {},
   "outputs": [
    {
     "name": "stdout",
     "output_type": "stream",
     "text": [
      "5\n",
      "['one', 'two', 'three', 4]\n"
     ]
    }
   ],
   "source": [
    "my_list = ['one','two','three',4,5]\n",
    "\n",
    "# Assign the popped element, remember default popped index is -1\n",
    "popped_item = my_list.pop()  \n",
    "                            # Assign the 'pop()' value in a variable/object is POSSIBLE, but for 'append()'--Not Possible\n",
    "print(popped_item)\n",
    "print(my_list)"
   ]
  },
  {
   "cell_type": "code",
   "execution_count": 87,
   "id": "1cd69643",
   "metadata": {},
   "outputs": [
    {
     "data": {
      "text/plain": [
       "['c', 'b', 'x', 'e', 'a']"
      ]
     },
     "execution_count": 87,
     "metadata": {},
     "output_type": "execute_result"
    }
   ],
   "source": [
    "new_list = ['a','e','x','b','c']\n",
    "\n",
    "new_list.reverse() # Use reverse to reverse order (this is permanent!)\n",
    "new_list"
   ]
  },
  {
   "cell_type": "code",
   "execution_count": 4,
   "id": "cc3de61b",
   "metadata": {},
   "outputs": [
    {
     "name": "stdout",
     "output_type": "stream",
     "text": [
      "matrix = [[1, 2, 3], [4, 5, 6], [7, 8, 9]]\n",
      "\n",
      "matrix[0] = [1, 2, 3]\n",
      "\n",
      "matrix[0][0] = 1\n",
      "\n",
      "matrix[2][1] = 8\n"
     ]
    }
   ],
   "source": [
    "# Let's make three lists\n",
    "lst_1=[1,2,3]\n",
    "lst_2=[4,5,6]\n",
    "lst_3=[7,8,9]\n",
    "\n",
    "matrix = [lst_1,lst_2,lst_3]\n",
    "\n",
    "print(f'matrix = {matrix}\\n') # Make a list of lists to form a matrix\n",
    "print(f'matrix[0] = {matrix[0]}\\n') # Grab first item in matrix object\n",
    "print(f'matrix[0][0] = {matrix[0][0]}\\n') # Grab first item of the first item in the matrix object\n",
    "print(f'matrix[2][1] = {matrix[2][1]}')"
   ]
  },
  {
   "cell_type": "code",
   "execution_count": 12,
   "id": "7863ded1",
   "metadata": {},
   "outputs": [
    {
     "data": {
      "text/plain": [
       "[[1, 2, 3], [4, 5, 6], [7, 8, 9]]"
      ]
     },
     "execution_count": 12,
     "metadata": {},
     "output_type": "execute_result"
    }
   ],
   "source": [
    "[row for row in matrix]"
   ]
  },
  {
   "cell_type": "code",
   "execution_count": 13,
   "id": "c64e8d3c",
   "metadata": {},
   "outputs": [
    {
     "data": {
      "text/plain": [
       "[1, 4, 7]"
      ]
     },
     "execution_count": 13,
     "metadata": {},
     "output_type": "execute_result"
    }
   ],
   "source": [
    "#Build a list comprehension by deconstructing a for loop within a []\n",
    "[row[0] for row in matrix]"
   ]
  },
  {
   "cell_type": "markdown",
   "id": "89e143fc",
   "metadata": {},
   "source": [
    "---------------------"
   ]
  },
  {
   "cell_type": "markdown",
   "id": "21bf0935",
   "metadata": {},
   "source": [
    "#  Dictionaries\n",
    "--------------------------------------------\n",
    "**Please see the 'Notebook' file named \"SB_Dictionaries\""
   ]
  },
  {
   "cell_type": "markdown",
   "id": "d6c64505",
   "metadata": {},
   "source": [
    "#  Tuples\n",
    "--------------------------------------------\n",
    "**Please see the 'Notebook' file named \"SB_Tuples\""
   ]
  },
  {
   "cell_type": "markdown",
   "id": "956a1792",
   "metadata": {},
   "source": [
    "# Sets\n",
    "---------------------------\n",
    "\n",
    "**Sets are a collection of *`unique`* elements.**"
   ]
  },
  {
   "cell_type": "code",
   "execution_count": 26,
   "id": "deecdc97",
   "metadata": {},
   "outputs": [
    {
     "data": {
      "text/plain": [
       "{1, 2, 3, 4, 5, 6, '6', 'one'}"
      ]
     },
     "execution_count": 26,
     "metadata": {},
     "output_type": "execute_result"
    }
   ],
   "source": [
    "list1 = ['one',1,1,'6',6,'one',2,2,3,4,5,6,1,1]\n",
    "set(list1)"
   ]
  },
  {
   "cell_type": "code",
   "execution_count": 27,
   "id": "df320be8",
   "metadata": {},
   "outputs": [
    {
     "data": {
      "text/plain": [
       "{1, 2, 3}"
      ]
     },
     "execution_count": 27,
     "metadata": {},
     "output_type": "execute_result"
    }
   ],
   "source": [
    "list2=[3,2,1]\n",
    "set(list2)"
   ]
  },
  {
   "cell_type": "code",
   "execution_count": 31,
   "id": "c42b1903",
   "metadata": {},
   "outputs": [
    {
     "data": {
      "text/plain": [
       "{1, 'one'}"
      ]
     },
     "execution_count": 31,
     "metadata": {},
     "output_type": "execute_result"
    }
   ],
   "source": [
    "# Contructing a Set\n",
    "x = set()\n",
    "x.add(1)\n",
    "x.add('one') # Add multiple in a statement NOT possible. Example: x.add('one',2,'hello') >>> NOT possible\n",
    "x"
   ]
  },
  {
   "cell_type": "markdown",
   "id": "5e538104",
   "metadata": {},
   "source": [
    "#  for Loops\n",
    "--------------------------------------------\n",
    "**Please see the 'Notebook' file named \"SB_for Loops\""
   ]
  },
  {
   "cell_type": "markdown",
   "id": "89218b24",
   "metadata": {},
   "source": [
    "# break, continue, pass\n",
    "--------------------------------------------\n",
    "\n",
    "**We can use <code>break</code>, <code>continue</code>, and <code>pass</code> statements in our loops to add additional functionality for various cases. The three statements are defined by:\n",
    "\n",
    "    break: Breaks out of the current closest enclosing loop.\n",
    "    continue: Goes to the top of the closest enclosing loop.\n",
    "    pass: Does nothing at all."
   ]
  },
  {
   "cell_type": "markdown",
   "id": "6afe22b6",
   "metadata": {},
   "source": [
    "#  Methods\n",
    "----------------\n",
    "Fortunately, with iPython and the Jupyter Notebook we can quickly see all the possible methods using the tab key. The methods for a list are:\n",
    "\n",
    "* append\n",
    "* count\n",
    "* extend\n",
    "* insert\n",
    "* pop\n",
    "* remove\n",
    "* reverse\n",
    "* sort"
   ]
  },
  {
   "cell_type": "markdown",
   "id": "cccd8e1a",
   "metadata": {},
   "source": [
    "## Returning Tuples for Unpacking\n",
    "-----------"
   ]
  },
  {
   "cell_type": "code",
   "execution_count": 3,
   "id": "2c8a196b",
   "metadata": {
    "scrolled": true
   },
   "outputs": [
    {
     "name": "stdout",
     "output_type": "stream",
     "text": [
      "AAPL\n",
      "200\n",
      "GOOG\n",
      "300\n",
      "MSFT\n",
      "400\n"
     ]
    }
   ],
   "source": [
    "stock_prices = [('AAPL',200),('GOOG',300),('MSFT',400)]\n",
    "for stock,price in stock_prices:\n",
    "    print(stock)\n",
    "    print(price)"
   ]
  },
  {
   "cell_type": "markdown",
   "id": "e417affe",
   "metadata": {},
   "source": [
    "# Functions\n",
    "-------------\n",
    "## Interactions between functions\n",
    "Functions often use results from other functions, let's see a simple example through a guessing game. There will be 3 positions in the list, one of which is an 'O', a function will shuffle the list, another will take a player's guess, and finally another will check to see if it is correct. This is based on the classic carnival game of guessing which cup a red ball is under."
   ]
  },
  {
   "cell_type": "code",
   "execution_count": 7,
   "id": "ca76db24",
   "metadata": {},
   "outputs": [],
   "source": [
    "def shuffle_list(mylist):\n",
    "    # Take in list, and returned shuffle versioned\n",
    "    shuffle(mylist)\n",
    "    \n",
    "    return mylist"
   ]
  },
  {
   "cell_type": "code",
   "execution_count": 8,
   "id": "9e246268",
   "metadata": {},
   "outputs": [],
   "source": [
    "def player_guess():\n",
    "    \n",
    "    guess = ''\n",
    "    \n",
    "    while guess not in ['0','1','2']:\n",
    "        \n",
    "        # Recall input() returns a string\n",
    "        guess = input(\"Pick a number: 0, 1, or 2:  \")\n",
    "    \n",
    "    return int(guess)"
   ]
  },
  {
   "cell_type": "code",
   "execution_count": 10,
   "id": "6e126e7b",
   "metadata": {},
   "outputs": [],
   "source": [
    "def check_guess(mylist,guess):\n",
    "    if mylist[guess] == 'O':\n",
    "        print('Correct Guess!')\n",
    "    else:\n",
    "        print('Wrong! Better luck next time')\n",
    "        print(mylist)"
   ]
  },
  {
   "cell_type": "code",
   "execution_count": 13,
   "id": "81953a1c",
   "metadata": {},
   "outputs": [
    {
     "name": "stdout",
     "output_type": "stream",
     "text": [
      "Pick a number: 0, 1, or 2:  3\n",
      "Pick a number: 0, 1, or 2:  2\n",
      "Correct Guess!\n"
     ]
    }
   ],
   "source": [
    "from random import shuffle\n",
    "\n",
    "# Initial List\n",
    "mylist = [' ','O',' ']\n",
    "\n",
    "# Shuffle It\n",
    "mixedup_list = shuffle_list(mylist)\n",
    "\n",
    "# Get User's Guess\n",
    "guess = player_guess()\n",
    "\n",
    "# Check User's Guess\n",
    "#------------------------\n",
    "# Notice how this function takes in the input \n",
    "# based on the output of other functions!\n",
    "check_guess(mixedup_list,guess)"
   ]
  },
  {
   "cell_type": "markdown",
   "id": "4e510dab",
   "metadata": {},
   "source": [
    "##  `*args` and `**kwargs`\n",
    "--------------------------------------------\n",
    "**Please see the 'Notebook' file named \"SB_args_kwargs\""
   ]
  },
  {
   "cell_type": "markdown",
   "id": "7202600b",
   "metadata": {},
   "source": [
    "##  Map, Filter Functions, Lambda Expression\n",
    "--------------------------------------------\n",
    "**Please see the 'Notebook' file named \"SB_Map-Filter-Function_Lambda-Expressions\""
   ]
  },
  {
   "cell_type": "markdown",
   "id": "22505bc2",
   "metadata": {},
   "source": [
    "## ***Look the problems in 'SB_Function Practice Excercises'*"
   ]
  },
  {
   "cell_type": "markdown",
   "id": "55a4e2b1",
   "metadata": {},
   "source": [
    "##  Nested Statements and Scope\n",
    "--------------------------------------------\n",
    "**Please see the 'Video Tutorial' and 'Notebook' file named \"SB_Nested Statements and Scope\""
   ]
  },
  {
   "cell_type": "code",
   "execution_count": null,
   "id": "050716bc",
   "metadata": {},
   "outputs": [],
   "source": []
  }
 ],
 "metadata": {
  "kernelspec": {
   "display_name": "Python 3 (ipykernel)",
   "language": "python",
   "name": "python3"
  },
  "language_info": {
   "codemirror_mode": {
    "name": "ipython",
    "version": 3
   },
   "file_extension": ".py",
   "mimetype": "text/x-python",
   "name": "python",
   "nbconvert_exporter": "python",
   "pygments_lexer": "ipython3",
   "version": "3.9.7"
  }
 },
 "nbformat": 4,
 "nbformat_minor": 5
}
